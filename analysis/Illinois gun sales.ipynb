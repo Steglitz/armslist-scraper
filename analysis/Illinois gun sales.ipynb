{
 "cells": [
  {
   "cell_type": "markdown",
   "metadata": {},
   "source": [
    "# Armslist Illinois gun sale listings analysis\n",
    "\n",
    "What can we learn about gray-market gun sales in Illinois? \n",
    "\n",
    "Data scraped 2017-07-25."
   ]
  },
  {
   "cell_type": "markdown",
   "metadata": {},
   "source": [
    "## Setup and utilities\n",
    "\n",
    "Skip down to read the analysis. If you don't care about code, skip the stuff in gray boxes :)"
   ]
  },
  {
   "cell_type": "code",
   "execution_count": 41,
   "metadata": {},
   "outputs": [],
   "source": [
    "%matplotlib inline\n",
    "import matplotlib\n",
    "import matplotlib.pyplot as plt\n",
    "import pandas as pd\n",
    "import re\n",
    "\n",
    "plt.style.use('fivethirtyeight')\n",
    "matplotlib.rcParams['figure.figsize'] = (14, 6)\n",
    "matplotlib.rcParams['font.size'] = 9"
   ]
  },
  {
   "cell_type": "code",
   "execution_count": 39,
   "metadata": {
    "collapsed": true
   },
   "outputs": [],
   "source": [
    "df = pd.read_csv('../cache/listings.csv', parse_dates=['listed_date'])"
   ]
  },
  {
   "cell_type": "markdown",
   "metadata": {
    "collapsed": true
   },
   "source": [
    "# Basic counts\n",
    "\n",
    "All value counts have both raw and normalized (essentially %, but expressed as a fraction of 1)."
   ]
  },
  {
   "cell_type": "code",
   "execution_count": 3,
   "metadata": {
    "collapsed": true
   },
   "outputs": [],
   "source": [
    "total_listings = len(df)\n",
    "min_date = df['listed_date'].min()"
   ]
  },
  {
   "cell_type": "markdown",
   "metadata": {
    "variables": {
     "min_date": "2017-04-25 00:00:00",
     "total_listings": "2498"
    }
   },
   "source": [
    "There are **{{total_listings}}** listings since {{min_date}}."
   ]
  },
  {
   "cell_type": "markdown",
   "metadata": {},
   "source": [
    "### \"Category\" counts"
   ]
  },
  {
   "cell_type": "code",
   "execution_count": 4,
   "metadata": {},
   "outputs": [
    {
     "data": {
      "text/plain": [
       "Handguns            1357\n",
       "Rifles               819\n",
       "Shotguns             284\n",
       "Antique Firearms      29\n",
       "NFA Firearms           6\n",
       "Muzzle Loaders         3\n",
       "Name: category, dtype: int64"
      ]
     },
     "execution_count": 4,
     "metadata": {},
     "output_type": "execute_result"
    }
   ],
   "source": [
    "df['category'].value_counts()"
   ]
  },
  {
   "cell_type": "code",
   "execution_count": 5,
   "metadata": {},
   "outputs": [
    {
     "data": {
      "text/plain": [
       "Handguns            0.543235\n",
       "Rifles              0.327862\n",
       "Shotguns            0.113691\n",
       "Antique Firearms    0.011609\n",
       "NFA Firearms        0.002402\n",
       "Muzzle Loaders      0.001201\n",
       "Name: category, dtype: float64"
      ]
     },
     "execution_count": 5,
     "metadata": {},
     "output_type": "execute_result"
    }
   ],
   "source": [
    "df['category'].value_counts(normalize=True)"
   ]
  },
  {
   "cell_type": "markdown",
   "metadata": {},
   "source": [
    "### \"Firearm type\" counts\n",
    "\n",
    "It's not clear how this is different than category in Armslist's eyes."
   ]
  },
  {
   "cell_type": "code",
   "execution_count": 6,
   "metadata": {},
   "outputs": [
    {
     "data": {
      "text/plain": [
       "Pistol           1136\n",
       "Rifle             817\n",
       "Shotgun           283\n",
       "Revolver          147\n",
       "Derringer          14\n",
       "Muzzle Loader       3\n",
       "Name: firearm_type, dtype: int64"
      ]
     },
     "execution_count": 6,
     "metadata": {},
     "output_type": "execute_result"
    }
   ],
   "source": [
    "df['firearm_type'].value_counts()"
   ]
  },
  {
   "cell_type": "code",
   "execution_count": 7,
   "metadata": {},
   "outputs": [
    {
     "data": {
      "text/plain": [
       "Pistol           0.473333\n",
       "Rifle            0.340417\n",
       "Shotgun          0.117917\n",
       "Revolver         0.061250\n",
       "Derringer        0.005833\n",
       "Muzzle Loader    0.001250\n",
       "Name: firearm_type, dtype: float64"
      ]
     },
     "execution_count": 7,
     "metadata": {},
     "output_type": "execute_result"
    }
   ],
   "source": [
    "df['firearm_type'].value_counts(normalize=True)"
   ]
  },
  {
   "cell_type": "markdown",
   "metadata": {},
   "source": [
    "### \"Action\" counts (e.g. semiautomatic)"
   ]
  },
  {
   "cell_type": "code",
   "execution_count": 8,
   "metadata": {},
   "outputs": [
    {
     "data": {
      "text/plain": [
       "Semi-automatic            564\n",
       "Striker Fire              336\n",
       "Double / Single Action    295\n",
       "Single Action             259\n",
       "Double Action             174\n",
       "Bolt Action               172\n",
       "Pump Action               149\n",
       "Over and Under             36\n",
       "Lever Action               35\n",
       "Single Shot                27\n",
       "Break Open                 16\n",
       "Side by Side               12\n",
       "Name: action, dtype: int64"
      ]
     },
     "execution_count": 8,
     "metadata": {},
     "output_type": "execute_result"
    }
   ],
   "source": [
    "df['action'].value_counts()"
   ]
  },
  {
   "cell_type": "code",
   "execution_count": 9,
   "metadata": {},
   "outputs": [
    {
     "data": {
      "text/plain": [
       "Semi-automatic            0.271807\n",
       "Striker Fire              0.161928\n",
       "Double / Single Action    0.142169\n",
       "Single Action             0.124819\n",
       "Double Action             0.083855\n",
       "Bolt Action               0.082892\n",
       "Pump Action               0.071807\n",
       "Over and Under            0.017349\n",
       "Lever Action              0.016867\n",
       "Single Shot               0.013012\n",
       "Break Open                0.007711\n",
       "Side by Side              0.005783\n",
       "Name: action, dtype: float64"
      ]
     },
     "execution_count": 9,
     "metadata": {},
     "output_type": "execute_result"
    }
   ],
   "source": [
    "df['action'].value_counts(normalize=True)"
   ]
  },
  {
   "cell_type": "markdown",
   "metadata": {},
   "source": [
    "### \"Caliber\" counts (top 20)\n",
    "\n",
    "This appears to be either a long list of options or some form of free text. Definitely many more values here than other top level categories."
   ]
  },
  {
   "cell_type": "code",
   "execution_count": 10,
   "metadata": {},
   "outputs": [
    {
     "data": {
      "text/plain": [
       "9mm Luger (9x19)     490\n",
       "45 ACP               274\n",
       "12 Gauge             210\n",
       "22 Long Rifle        189\n",
       "223/5.56 NATO        177\n",
       "40 S&W               106\n",
       "380 ACP               91\n",
       "5.56×45mm NATO        87\n",
       "308/7.62 NATO         72\n",
       "7.62x39               59\n",
       "357 Magnum            45\n",
       "20 Gauge              37\n",
       "7.62x54R              31\n",
       "38 S&W Special        28\n",
       "40 cal                25\n",
       "44 Magnum             16\n",
       "30-06 Springfield     14\n",
       "30-30 Winchester      11\n",
       "22 Magnum             11\n",
       "45 Long Colt          11\n",
       "Name: caliber, dtype: int64"
      ]
     },
     "execution_count": 10,
     "metadata": {},
     "output_type": "execute_result"
    }
   ],
   "source": [
    "df['caliber'].value_counts().head(20)"
   ]
  },
  {
   "cell_type": "code",
   "execution_count": 11,
   "metadata": {},
   "outputs": [
    {
     "data": {
      "text/plain": [
       "9mm Luger (9x19)     0.222829\n",
       "45 ACP               0.124602\n",
       "12 Gauge             0.095498\n",
       "22 Long Rifle        0.085948\n",
       "223/5.56 NATO        0.080491\n",
       "40 S&W               0.048204\n",
       "380 ACP              0.041382\n",
       "5.56×45mm NATO       0.039563\n",
       "308/7.62 NATO        0.032742\n",
       "7.62x39              0.026830\n",
       "357 Magnum           0.020464\n",
       "20 Gauge             0.016826\n",
       "7.62x54R             0.014097\n",
       "38 S&W Special       0.012733\n",
       "40 cal               0.011369\n",
       "44 Magnum            0.007276\n",
       "30-06 Springfield    0.006367\n",
       "30-30 Winchester     0.005002\n",
       "22 Magnum            0.005002\n",
       "45 Long Colt         0.005002\n",
       "Name: caliber, dtype: float64"
      ]
     },
     "execution_count": 11,
     "metadata": {},
     "output_type": "execute_result"
    }
   ],
   "source": [
    "df['caliber'].value_counts(normalize=True).head(20)"
   ]
  },
  {
   "cell_type": "markdown",
   "metadata": {},
   "source": [
    "### Location counts (top 20)\n",
    "\n",
    "Lots of messiness here. Interesting that Lake Villa pops up at the top."
   ]
  },
  {
   "cell_type": "code",
   "execution_count": 12,
   "metadata": {},
   "outputs": [
    {
     "data": {
      "text/plain": [
       "Lake Villa                                       500\n",
       "Chicago                                          126\n",
       "Saint Charles                                     71\n",
       "Manhattan (Will County near Joliet/New Lenox)     68\n",
       "Springfield                                       60\n",
       "Illinois                                          54\n",
       "Urbana                                            39\n",
       "Wauconda                                          37\n",
       "Joliet                                            25\n",
       "Freeport                                          24\n",
       "Rockford                                          23\n",
       "LeRoy                                             22\n",
       "Peoria                                            22\n",
       "belleville                                        21\n",
       "WAUCONDA                                          19\n",
       "South Suburbs                                     17\n",
       "ILLINOIS                                          17\n",
       "Genoa                                             17\n",
       "Aurora                                            16\n",
       "Decatur                                           15\n",
       "Name: location, dtype: int64"
      ]
     },
     "execution_count": 12,
     "metadata": {},
     "output_type": "execute_result"
    }
   ],
   "source": [
    "df['location'].value_counts().head(20)"
   ]
  },
  {
   "cell_type": "code",
   "execution_count": 13,
   "metadata": {},
   "outputs": [
    {
     "data": {
      "text/plain": [
       "Lake Villa                                       0.200160\n",
       "Chicago                                          0.050440\n",
       "Saint Charles                                    0.028423\n",
       "Manhattan (Will County near Joliet/New Lenox)    0.027222\n",
       "Springfield                                      0.024019\n",
       "Illinois                                         0.021617\n",
       "Urbana                                           0.015612\n",
       "Wauconda                                         0.014812\n",
       "Joliet                                           0.010008\n",
       "Freeport                                         0.009608\n",
       "Rockford                                         0.009207\n",
       "LeRoy                                            0.008807\n",
       "Peoria                                           0.008807\n",
       "belleville                                       0.008407\n",
       "WAUCONDA                                         0.007606\n",
       "South Suburbs                                    0.006805\n",
       "ILLINOIS                                         0.006805\n",
       "Genoa                                            0.006805\n",
       "Aurora                                           0.006405\n",
       "Decatur                                          0.006005\n",
       "Name: location, dtype: float64"
      ]
     },
     "execution_count": 13,
     "metadata": {},
     "output_type": "execute_result"
    }
   ],
   "source": [
    "df['location'].value_counts(normalize=True).head(20)"
   ]
  },
  {
   "cell_type": "markdown",
   "metadata": {},
   "source": [
    "## City counts\n",
    "\n",
    "This is far more structured than \"location\"."
   ]
  },
  {
   "cell_type": "code",
   "execution_count": 14,
   "metadata": {},
   "outputs": [
    {
     "data": {
      "text/plain": [
       "Chicago               1336\n",
       "Rockford               146\n",
       "St. Louis              109\n",
       "Champaign / Urbana      80\n",
       "Springfield             70\n",
       "Peoria                  67\n",
       "Southern Illinois       66\n",
       "La Salle                44\n",
       "Bloomington             42\n",
       "Decatur                 23\n",
       "Western Illinois        22\n",
       "Quad Cities             17\n",
       "Name: city, dtype: int64"
      ]
     },
     "execution_count": 14,
     "metadata": {},
     "output_type": "execute_result"
    }
   ],
   "source": [
    "df['city'].value_counts()"
   ]
  },
  {
   "cell_type": "code",
   "execution_count": 15,
   "metadata": {},
   "outputs": [
    {
     "data": {
      "text/plain": [
       "Chicago               0.660732\n",
       "Rockford              0.072206\n",
       "St. Louis             0.053907\n",
       "Champaign / Urbana    0.039565\n",
       "Springfield           0.034619\n",
       "Peoria                0.033136\n",
       "Southern Illinois     0.032641\n",
       "La Salle              0.021761\n",
       "Bloomington           0.020772\n",
       "Decatur               0.011375\n",
       "Western Illinois      0.010880\n",
       "Quad Cities           0.008408\n",
       "Name: city, dtype: float64"
      ]
     },
     "execution_count": 15,
     "metadata": {},
     "output_type": "execute_result"
    }
   ],
   "source": [
    "df['city'].value_counts(normalize=True)"
   ]
  },
  {
   "cell_type": "markdown",
   "metadata": {},
   "source": [
    "### Manufacuturer counts (top 20)"
   ]
  },
  {
   "cell_type": "code",
   "execution_count": 16,
   "metadata": {},
   "outputs": [
    {
     "data": {
      "text/plain": [
       "Glock                         180\n",
       "Ruger                         177\n",
       "Smith & Wesson                168\n",
       "Springfield                   136\n",
       "Sig Sauer                     121\n",
       "Remington                      87\n",
       "Mossberg                       80\n",
       "Colt                           69\n",
       "Heckler & Koch                 55\n",
       "Taurus                         48\n",
       "Kel-Tec                        47\n",
       "Kimber                         46\n",
       "Beretta USA                    44\n",
       "Browning                       42\n",
       "Savage Arms                    39\n",
       "FN Herstal S.A.                38\n",
       "Winchester                     36\n",
       "CZ USA                         35\n",
       "Century International Arms     33\n",
       "Hi Point                       26\n",
       "Name: manufacturer, dtype: int64"
      ]
     },
     "execution_count": 16,
     "metadata": {},
     "output_type": "execute_result"
    }
   ],
   "source": [
    "df['manufacturer'].value_counts().head(20)"
   ]
  },
  {
   "cell_type": "code",
   "execution_count": 17,
   "metadata": {},
   "outputs": [
    {
     "data": {
      "text/plain": [
       "Glock                         0.085796\n",
       "Ruger                         0.084366\n",
       "Smith & Wesson                0.080076\n",
       "Springfield                   0.064824\n",
       "Sig Sauer                     0.057674\n",
       "Remington                     0.041468\n",
       "Mossberg                      0.038132\n",
       "Colt                          0.032888\n",
       "Heckler & Koch                0.026215\n",
       "Taurus                        0.022879\n",
       "Kel-Tec                       0.022402\n",
       "Kimber                        0.021926\n",
       "Beretta USA                   0.020972\n",
       "Browning                      0.020019\n",
       "Savage Arms                   0.018589\n",
       "FN Herstal S.A.               0.018112\n",
       "Winchester                    0.017159\n",
       "CZ USA                        0.016683\n",
       "Century International Arms    0.015729\n",
       "Hi Point                      0.012393\n",
       "Name: manufacturer, dtype: float64"
      ]
     },
     "execution_count": 17,
     "metadata": {},
     "output_type": "execute_result"
    }
   ],
   "source": [
    "df['manufacturer'].value_counts(normalize=True).head(20)"
   ]
  },
  {
   "cell_type": "markdown",
   "metadata": {},
   "source": [
    "# Multiple listings"
   ]
  },
  {
   "cell_type": "code",
   "execution_count": 18,
   "metadata": {},
   "outputs": [],
   "source": [
    "deduped = df.sort_values('number_of_related_listings', ascending=False).drop_duplicates('related_ids')"
   ]
  },
  {
   "cell_type": "markdown",
   "metadata": {},
   "source": [
    "Here are some of the top multiple listing entries:"
   ]
  },
  {
   "cell_type": "code",
   "execution_count": 19,
   "metadata": {},
   "outputs": [
    {
     "data": {
      "text/html": [
       "<div>\n",
       "<style>\n",
       "    .dataframe thead tr:only-child th {\n",
       "        text-align: right;\n",
       "    }\n",
       "\n",
       "    .dataframe thead th {\n",
       "        text-align: left;\n",
       "    }\n",
       "\n",
       "    .dataframe tbody tr th {\n",
       "        vertical-align: top;\n",
       "    }\n",
       "</style>\n",
       "<table border=\"1\" class=\"dataframe\">\n",
       "  <thead>\n",
       "    <tr style=\"text-align: right;\">\n",
       "      <th></th>\n",
       "      <th>related_ids</th>\n",
       "      <th>number_of_related_listings</th>\n",
       "    </tr>\n",
       "  </thead>\n",
       "  <tbody>\n",
       "    <tr>\n",
       "      <th>1182</th>\n",
       "      <td>7053229,7053518,7057232,7058370,7073743,707429...</td>\n",
       "      <td>10</td>\n",
       "    </tr>\n",
       "    <tr>\n",
       "      <th>553</th>\n",
       "      <td>5198842,5280311,5481500,6311451,6311705,667846...</td>\n",
       "      <td>10</td>\n",
       "    </tr>\n",
       "    <tr>\n",
       "      <th>566</th>\n",
       "      <td>5570328,5720310,6253641,6253672,6478774,667849...</td>\n",
       "      <td>10</td>\n",
       "    </tr>\n",
       "    <tr>\n",
       "      <th>2431</th>\n",
       "      <td>5866164,6105933,6201569,6300830,6514571,671211...</td>\n",
       "      <td>10</td>\n",
       "    </tr>\n",
       "    <tr>\n",
       "      <th>591</th>\n",
       "      <td>6640229,6640710,6695119,6695159,6734004,677158...</td>\n",
       "      <td>10</td>\n",
       "    </tr>\n",
       "    <tr>\n",
       "      <th>1893</th>\n",
       "      <td>6938862,6953242,6966375,6995583,6997598,700096...</td>\n",
       "      <td>10</td>\n",
       "    </tr>\n",
       "    <tr>\n",
       "      <th>25</th>\n",
       "      <td>5486942,6523384,6553485,6586733,6602279,681328...</td>\n",
       "      <td>10</td>\n",
       "    </tr>\n",
       "    <tr>\n",
       "      <th>608</th>\n",
       "      <td>6523934,6602973,6700635,6700649,6777927,683716...</td>\n",
       "      <td>9</td>\n",
       "    </tr>\n",
       "    <tr>\n",
       "      <th>1446</th>\n",
       "      <td>7047954,7049349,7049409,7049576,7050062,705020...</td>\n",
       "      <td>9</td>\n",
       "    </tr>\n",
       "    <tr>\n",
       "      <th>1105</th>\n",
       "      <td>7097606,7097635,7097647,7097652,7097673,709769...</td>\n",
       "      <td>9</td>\n",
       "    </tr>\n",
       "    <tr>\n",
       "      <th>1106</th>\n",
       "      <td>6212389,6212423,6228268,6557078,6574066,678813...</td>\n",
       "      <td>9</td>\n",
       "    </tr>\n",
       "    <tr>\n",
       "      <th>1939</th>\n",
       "      <td>6944248,6944269,6944282,6982867,6982871,698287...</td>\n",
       "      <td>9</td>\n",
       "    </tr>\n",
       "    <tr>\n",
       "      <th>1417</th>\n",
       "      <td>6518055,6518076,6518098,7092788,7092815,709283...</td>\n",
       "      <td>9</td>\n",
       "    </tr>\n",
       "    <tr>\n",
       "      <th>753</th>\n",
       "      <td>6532716,6540872,6540926,6540952,6542372,654241...</td>\n",
       "      <td>9</td>\n",
       "    </tr>\n",
       "    <tr>\n",
       "      <th>576</th>\n",
       "      <td>6282688,6561641,6609442,6623363,6673686,670407...</td>\n",
       "      <td>9</td>\n",
       "    </tr>\n",
       "    <tr>\n",
       "      <th>1527</th>\n",
       "      <td>6652248,6672441,6936269,6937348,7058961,706184...</td>\n",
       "      <td>8</td>\n",
       "    </tr>\n",
       "    <tr>\n",
       "      <th>1397</th>\n",
       "      <td>6247977,6914852,6922410,7051938,7052036,705258...</td>\n",
       "      <td>8</td>\n",
       "    </tr>\n",
       "    <tr>\n",
       "      <th>2188</th>\n",
       "      <td>6807680,6812382,6844995,6869370,6876538,687922...</td>\n",
       "      <td>8</td>\n",
       "    </tr>\n",
       "    <tr>\n",
       "      <th>1149</th>\n",
       "      <td>6531600,6558018,6908712,7006867,7077374,710620...</td>\n",
       "      <td>8</td>\n",
       "    </tr>\n",
       "    <tr>\n",
       "      <th>539</th>\n",
       "      <td>6911363,7056667,7059357,7068834,7074840,709204...</td>\n",
       "      <td>8</td>\n",
       "    </tr>\n",
       "  </tbody>\n",
       "</table>\n",
       "</div>"
      ],
      "text/plain": [
       "                                            related_ids  \\\n",
       "1182  7053229,7053518,7057232,7058370,7073743,707429...   \n",
       "553   5198842,5280311,5481500,6311451,6311705,667846...   \n",
       "566   5570328,5720310,6253641,6253672,6478774,667849...   \n",
       "2431  5866164,6105933,6201569,6300830,6514571,671211...   \n",
       "591   6640229,6640710,6695119,6695159,6734004,677158...   \n",
       "1893  6938862,6953242,6966375,6995583,6997598,700096...   \n",
       "25    5486942,6523384,6553485,6586733,6602279,681328...   \n",
       "608   6523934,6602973,6700635,6700649,6777927,683716...   \n",
       "1446  7047954,7049349,7049409,7049576,7050062,705020...   \n",
       "1105  7097606,7097635,7097647,7097652,7097673,709769...   \n",
       "1106  6212389,6212423,6228268,6557078,6574066,678813...   \n",
       "1939  6944248,6944269,6944282,6982867,6982871,698287...   \n",
       "1417  6518055,6518076,6518098,7092788,7092815,709283...   \n",
       "753   6532716,6540872,6540926,6540952,6542372,654241...   \n",
       "576   6282688,6561641,6609442,6623363,6673686,670407...   \n",
       "1527  6652248,6672441,6936269,6937348,7058961,706184...   \n",
       "1397  6247977,6914852,6922410,7051938,7052036,705258...   \n",
       "2188  6807680,6812382,6844995,6869370,6876538,687922...   \n",
       "1149  6531600,6558018,6908712,7006867,7077374,710620...   \n",
       "539   6911363,7056667,7059357,7068834,7074840,709204...   \n",
       "\n",
       "      number_of_related_listings  \n",
       "1182                          10  \n",
       "553                           10  \n",
       "566                           10  \n",
       "2431                          10  \n",
       "591                           10  \n",
       "1893                          10  \n",
       "25                            10  \n",
       "608                            9  \n",
       "1446                           9  \n",
       "1105                           9  \n",
       "1106                           9  \n",
       "1939                           9  \n",
       "1417                           9  \n",
       "753                            9  \n",
       "576                            9  \n",
       "1527                           8  \n",
       "1397                           8  \n",
       "2188                           8  \n",
       "1149                           8  \n",
       "539                            8  "
      ]
     },
     "execution_count": 19,
     "metadata": {},
     "output_type": "execute_result"
    }
   ],
   "source": [
    "deduped[['related_ids', 'number_of_related_listings']].head(20)"
   ]
  },
  {
   "cell_type": "markdown",
   "metadata": {},
   "source": [
    "This is the distribution of multiple listings. As you can see, there's a good number of multiple listings, including 7 with 10 listings:"
   ]
  },
  {
   "cell_type": "code",
   "execution_count": 20,
   "metadata": {},
   "outputs": [
    {
     "data": {
      "text/plain": [
       "1     690\n",
       "2     230\n",
       "3      71\n",
       "4      37\n",
       "5      21\n",
       "7      12\n",
       "6      11\n",
       "9       8\n",
       "8       8\n",
       "10      7\n",
       "0       1\n",
       "Name: number_of_related_listings, dtype: int64"
      ]
     },
     "execution_count": 20,
     "metadata": {},
     "output_type": "execute_result"
    }
   ],
   "source": [
    "deduped['number_of_related_listings'].value_counts()"
   ]
  },
  {
   "cell_type": "code",
   "execution_count": 21,
   "metadata": {},
   "outputs": [
    {
     "data": {
      "text/plain": [
       "1     0.629562\n",
       "2     0.209854\n",
       "3     0.064781\n",
       "4     0.033759\n",
       "5     0.019161\n",
       "7     0.010949\n",
       "6     0.010036\n",
       "9     0.007299\n",
       "8     0.007299\n",
       "10    0.006387\n",
       "0     0.000912\n",
       "Name: number_of_related_listings, dtype: float64"
      ]
     },
     "execution_count": 21,
     "metadata": {},
     "output_type": "execute_result"
    }
   ],
   "source": [
    "deduped['number_of_related_listings'].value_counts(normalize=True)"
   ]
  },
  {
   "cell_type": "markdown",
   "metadata": {},
   "source": [
    "# FOID\n",
    "\n",
    "In a simplistic analysis looking for \"FOI\", \"identification\", or \"card\", we find most (about 85%) of the listings make no mention of FOID. This is probably a little high, as there might be other ways to say this."
   ]
  },
  {
   "cell_type": "markdown",
   "metadata": {},
   "source": [
    "Raw numbers:"
   ]
  },
  {
   "cell_type": "code",
   "execution_count": 22,
   "metadata": {},
   "outputs": [
    {
     "data": {
      "text/plain": [
       "False    2144\n",
       "True      354\n",
       "Name: has_foid, dtype: int64"
      ]
     },
     "execution_count": 22,
     "metadata": {},
     "output_type": "execute_result"
    }
   ],
   "source": [
    "pattern = r'FOI|identification|card'\n",
    "df['has_foid'] = df['description'].str.contains(pattern, flags=re.IGNORECASE)\n",
    "df['has_foid'].value_counts()"
   ]
  },
  {
   "cell_type": "markdown",
   "metadata": {},
   "source": [
    "As %:"
   ]
  },
  {
   "cell_type": "code",
   "execution_count": 23,
   "metadata": {},
   "outputs": [
    {
     "data": {
      "text/plain": [
       "False    0.858287\n",
       "True     0.141713\n",
       "Name: has_foid, dtype: float64"
      ]
     },
     "execution_count": 23,
     "metadata": {},
     "output_type": "execute_result"
    }
   ],
   "source": [
    "df['has_foid'].value_counts(normalize=True)"
   ]
  },
  {
   "cell_type": "markdown",
   "metadata": {},
   "source": [
    "# Date frequencies\n",
    "\n",
    "This is likely to be a bit misleading because of the point-in-time nature of the dataset. What we do see is a strange spike on July 20, which could just be an accident or represent some residual periodicity we'd see if we scraped on a daily basis. July 20 is a Thursday, and if others are anything like me when I'm trying to sell something on Craigslist, they might put listings up on Thursday in order to work out weekend logistics. But that's just a supposition. At the moment, this doesn't tell us much."
   ]
  },
  {
   "cell_type": "markdown",
   "metadata": {},
   "source": [
    "## By firearm type"
   ]
  },
  {
   "cell_type": "code",
   "execution_count": 42,
   "metadata": {},
   "outputs": [
    {
     "data": {
      "text/plain": [
       "<matplotlib.axes._subplots.AxesSubplot at 0x10d72b9d0>"
      ]
     },
     "execution_count": 42,
     "metadata": {},
     "output_type": "execute_result"
    },
    {
     "data": {
      "image/png": "[encoded data removed]",
      "text/plain": [
       "<matplotlib.figure.Figure at 0x10d4ea7d0>"
      ]
     },
     "metadata": {},
     "output_type": "display_data"
    }
   ],
   "source": [
    "pivot_by_type = df[['post_id', 'listed_date', 'firearm_type']].groupby(['listed_date', 'firearm_type'])\n",
    "counts = pivot_by_type.count()\n",
    "counts = counts.unstack(level=1)\n",
    "counts.columns = counts.columns.get_level_values(1)\n",
    "counts.plot(kind='bar', stacked=True)"
   ]
  },
  {
   "cell_type": "markdown",
   "metadata": {},
   "source": [
    "## By city"
   ]
  },
  {
   "cell_type": "code",
   "execution_count": 43,
   "metadata": {},
   "outputs": [
    {
     "data": {
      "text/plain": [
       "<matplotlib.axes._subplots.AxesSubplot at 0x10c82e050>"
      ]
     },
     "execution_count": 43,
     "metadata": {},
     "output_type": "execute_result"
    },
    {
     "data": {
      "image/png": "[encoded data removed]",
      "text/plain": [
       "<matplotlib.figure.Figure at 0x10d734710>"
      ]
     },
     "metadata": {},
     "output_type": "display_data"
    }
   ],
   "source": [
    "pivot_by_type = df[['post_id', 'listed_date', 'city']].groupby(['listed_date', 'city'])\n",
    "counts = pivot_by_type.count()\n",
    "counts = counts.unstack(level=1)\n",
    "counts.columns = counts.columns.get_level_values(1)\n",
    "counts.plot(kind='bar', stacked=True)"
   ]
  },
  {
   "cell_type": "markdown",
   "metadata": {},
   "source": [
    "# Scratchpad / reference\n",
    "\n",
    "Ignore this if you don't need to remember column names and such."
   ]
  },
  {
   "cell_type": "code",
   "execution_count": 27,
   "metadata": {},
   "outputs": [
    {
     "name": "stdout",
     "output_type": "stream",
     "text": [
      "<class 'pandas.core.frame.DataFrame'>\n",
      "RangeIndex: 2498 entries, 0 to 2497\n",
      "Data columns (total 20 columns):\n",
      "url                           2498 non-null object\n",
      "post_id                       2498 non-null int64\n",
      "title                         2498 non-null object\n",
      "listed_date                   2498 non-null object\n",
      "price                         2498 non-null object\n",
      "location                      2498 non-null object\n",
      "city                          2022 non-null object\n",
      "state                         2498 non-null object\n",
      "description                   2498 non-null object\n",
      "registered                    2498 non-null bool\n",
      "category                      2498 non-null object\n",
      "manufacturer                  2098 non-null object\n",
      "caliber                       2199 non-null object\n",
      "action                        2075 non-null object\n",
      "firearm_type                  2400 non-null object\n",
      "party                         2498 non-null object\n",
      "img                           2395 non-null object\n",
      "related_ids                   1635 non-null object\n",
      "number_of_related_listings    2498 non-null int64\n",
      "has_foid                      2498 non-null bool\n",
      "dtypes: bool(2), int64(2), object(16)\n",
      "memory usage: 356.2+ KB\n"
     ]
    }
   ],
   "source": [
    "df.info()"
   ]
  },
  {
   "cell_type": "code",
   "execution_count": 28,
   "metadata": {},
   "outputs": [
    {
     "data": {
      "text/html": [
       "<div>\n",
       "<style>\n",
       "    .dataframe thead tr:only-child th {\n",
       "        text-align: right;\n",
       "    }\n",
       "\n",
       "    .dataframe thead th {\n",
       "        text-align: left;\n",
       "    }\n",
       "\n",
       "    .dataframe tbody tr th {\n",
       "        vertical-align: top;\n",
       "    }\n",
       "</style>\n",
       "<table border=\"1\" class=\"dataframe\">\n",
       "  <thead>\n",
       "    <tr style=\"text-align: right;\">\n",
       "      <th></th>\n",
       "      <th>url</th>\n",
       "      <th>post_id</th>\n",
       "      <th>title</th>\n",
       "      <th>listed_date</th>\n",
       "      <th>price</th>\n",
       "      <th>location</th>\n",
       "      <th>city</th>\n",
       "      <th>state</th>\n",
       "      <th>description</th>\n",
       "      <th>registered</th>\n",
       "      <th>category</th>\n",
       "      <th>manufacturer</th>\n",
       "      <th>caliber</th>\n",
       "      <th>action</th>\n",
       "      <th>firearm_type</th>\n",
       "      <th>party</th>\n",
       "      <th>img</th>\n",
       "      <th>related_ids</th>\n",
       "      <th>number_of_related_listings</th>\n",
       "      <th>has_foid</th>\n",
       "    </tr>\n",
       "  </thead>\n",
       "  <tbody>\n",
       "    <tr>\n",
       "      <th>0</th>\n",
       "      <td>http://www.armslist.com/posts/7117684/chicago-...</td>\n",
       "      <td>7117684</td>\n",
       "      <td>For Sale/Trade:  Ruger LCR 9mm with 6 moonclip...</td>\n",
       "      <td>2017-07-25 00:00:00</td>\n",
       "      <td>500</td>\n",
       "      <td>Schiller Park</td>\n",
       "      <td>Chicago</td>\n",
       "      <td>Illinois</td>\n",
       "      <td>Selling a Ruger LCR in 9mm (model# 05456) that...</td>\n",
       "      <td>True</td>\n",
       "      <td>Handguns</td>\n",
       "      <td>Ruger</td>\n",
       "      <td>NaN</td>\n",
       "      <td>Double Action</td>\n",
       "      <td>Revolver</td>\n",
       "      <td>Private</td>\n",
       "      <td>https://s3.amazonaws.com/mgm-content/sites/arm...</td>\n",
       "      <td>7095490,7117039,7117684</td>\n",
       "      <td>3</td>\n",
       "      <td>False</td>\n",
       "    </tr>\n",
       "    <tr>\n",
       "      <th>1</th>\n",
       "      <td>http://www.armslist.com/posts/6952435/illinois...</td>\n",
       "      <td>6952435</td>\n",
       "      <td>For Sale:  HK SP5K PARTS ALL BRAND NEW</td>\n",
       "      <td>2017-07-25 00:00:00</td>\n",
       "      <td>600</td>\n",
       "      <td>Lake Zurich</td>\n",
       "      <td>NaN</td>\n",
       "      <td>Illinois</td>\n",
       "      <td>$120 (2) HK 30rd Magazines \\n$300 B &amp; T Thread...</td>\n",
       "      <td>True</td>\n",
       "      <td>Handguns</td>\n",
       "      <td>Heckler &amp; Koch</td>\n",
       "      <td>9mm Luger (9x19)</td>\n",
       "      <td>NaN</td>\n",
       "      <td>NaN</td>\n",
       "      <td>Private</td>\n",
       "      <td>https://s3.amazonaws.com/mgm-content/sites/arm...</td>\n",
       "      <td>6952435</td>\n",
       "      <td>1</td>\n",
       "      <td>False</td>\n",
       "    </tr>\n",
       "    <tr>\n",
       "      <th>2</th>\n",
       "      <td>http://www.armslist.com/posts/7082966/illinois...</td>\n",
       "      <td>7082966</td>\n",
       "      <td>For Sale:  Smith &amp; Wesson K-22 Long Rifle</td>\n",
       "      <td>2017-07-25 00:00:00</td>\n",
       "      <td>700</td>\n",
       "      <td>Illinois</td>\n",
       "      <td>NaN</td>\n",
       "      <td>Illinois</td>\n",
       "      <td>Smith &amp; Wesson K-22 Long Rifle. In good and pe...</td>\n",
       "      <td>False</td>\n",
       "      <td>Handguns</td>\n",
       "      <td>Smith &amp; Wesson</td>\n",
       "      <td>22 Long Rifle</td>\n",
       "      <td>NaN</td>\n",
       "      <td>Revolver</td>\n",
       "      <td>Private</td>\n",
       "      <td>https://s3.amazonaws.com/mgm-content/sites/arm...</td>\n",
       "      <td>7082966,7083042</td>\n",
       "      <td>2</td>\n",
       "      <td>False</td>\n",
       "    </tr>\n",
       "    <tr>\n",
       "      <th>3</th>\n",
       "      <td>http://www.armslist.com/posts/7117478/illinois...</td>\n",
       "      <td>7117478</td>\n",
       "      <td>For Sale:  Brand new Phoenix Arms Nickel  22lr...</td>\n",
       "      <td>2017-07-25 00:00:00</td>\n",
       "      <td>125</td>\n",
       "      <td>Grundy county</td>\n",
       "      <td>NaN</td>\n",
       "      <td>Illinois</td>\n",
       "      <td>Brand New in box with all factory gear, Phoeni...</td>\n",
       "      <td>True</td>\n",
       "      <td>Handguns</td>\n",
       "      <td>Phoenix Arms</td>\n",
       "      <td>22 Long Rifle</td>\n",
       "      <td>NaN</td>\n",
       "      <td>Pistol</td>\n",
       "      <td>Private</td>\n",
       "      <td>https://s3.amazonaws.com/mgm-content/sites/arm...</td>\n",
       "      <td>6400204,7117478</td>\n",
       "      <td>2</td>\n",
       "      <td>False</td>\n",
       "    </tr>\n",
       "    <tr>\n",
       "      <th>4</th>\n",
       "      <td>http://www.armslist.com/posts/7063284/chicago-...</td>\n",
       "      <td>7063284</td>\n",
       "      <td>For Sale/Trade:  BROWNING MEDALLION 28 GAUGE S...</td>\n",
       "      <td>2017-07-25 00:00:00</td>\n",
       "      <td>900</td>\n",
       "      <td>Lockport</td>\n",
       "      <td>Chicago</td>\n",
       "      <td>Illinois</td>\n",
       "      <td>BROWNING MEDALLION 28 GAUGE SPECIAL EDITION, B...</td>\n",
       "      <td>True</td>\n",
       "      <td>Shotguns</td>\n",
       "      <td>Browning</td>\n",
       "      <td>28 Gauge</td>\n",
       "      <td>Pump Action</td>\n",
       "      <td>Shotgun</td>\n",
       "      <td>Private</td>\n",
       "      <td>https://s3.amazonaws.com/mgm-content/sites/arm...</td>\n",
       "      <td>7063284,7104296,7104579</td>\n",
       "      <td>3</td>\n",
       "      <td>False</td>\n",
       "    </tr>\n",
       "  </tbody>\n",
       "</table>\n",
       "</div>"
      ],
      "text/plain": [
       "                                                 url  post_id  \\\n",
       "0  http://www.armslist.com/posts/7117684/chicago-...  7117684   \n",
       "1  http://www.armslist.com/posts/6952435/illinois...  6952435   \n",
       "2  http://www.armslist.com/posts/7082966/illinois...  7082966   \n",
       "3  http://www.armslist.com/posts/7117478/illinois...  7117478   \n",
       "4  http://www.armslist.com/posts/7063284/chicago-...  7063284   \n",
       "\n",
       "                                               title          listed_date  \\\n",
       "0  For Sale/Trade:  Ruger LCR 9mm with 6 moonclip...  2017-07-25 00:00:00   \n",
       "1             For Sale:  HK SP5K PARTS ALL BRAND NEW  2017-07-25 00:00:00   \n",
       "2          For Sale:  Smith & Wesson K-22 Long Rifle  2017-07-25 00:00:00   \n",
       "3  For Sale:  Brand new Phoenix Arms Nickel  22lr...  2017-07-25 00:00:00   \n",
       "4  For Sale/Trade:  BROWNING MEDALLION 28 GAUGE S...  2017-07-25 00:00:00   \n",
       "\n",
       "  price       location     city     state  \\\n",
       "0   500  Schiller Park  Chicago  Illinois   \n",
       "1   600    Lake Zurich      NaN  Illinois   \n",
       "2   700       Illinois      NaN  Illinois   \n",
       "3   125  Grundy county      NaN  Illinois   \n",
       "4   900       Lockport  Chicago  Illinois   \n",
       "\n",
       "                                         description  registered  category  \\\n",
       "0  Selling a Ruger LCR in 9mm (model# 05456) that...        True  Handguns   \n",
       "1  $120 (2) HK 30rd Magazines \\n$300 B & T Thread...        True  Handguns   \n",
       "2  Smith & Wesson K-22 Long Rifle. In good and pe...       False  Handguns   \n",
       "3  Brand New in box with all factory gear, Phoeni...        True  Handguns   \n",
       "4  BROWNING MEDALLION 28 GAUGE SPECIAL EDITION, B...        True  Shotguns   \n",
       "\n",
       "     manufacturer           caliber         action firearm_type    party  \\\n",
       "0           Ruger               NaN  Double Action     Revolver  Private   \n",
       "1  Heckler & Koch  9mm Luger (9x19)            NaN          NaN  Private   \n",
       "2  Smith & Wesson     22 Long Rifle            NaN     Revolver  Private   \n",
       "3    Phoenix Arms     22 Long Rifle            NaN       Pistol  Private   \n",
       "4        Browning          28 Gauge    Pump Action      Shotgun  Private   \n",
       "\n",
       "                                                 img              related_ids  \\\n",
       "0  https://s3.amazonaws.com/mgm-content/sites/arm...  7095490,7117039,7117684   \n",
       "1  https://s3.amazonaws.com/mgm-content/sites/arm...                  6952435   \n",
       "2  https://s3.amazonaws.com/mgm-content/sites/arm...          7082966,7083042   \n",
       "3  https://s3.amazonaws.com/mgm-content/sites/arm...          6400204,7117478   \n",
       "4  https://s3.amazonaws.com/mgm-content/sites/arm...  7063284,7104296,7104579   \n",
       "\n",
       "   number_of_related_listings  has_foid  \n",
       "0                           3     False  \n",
       "1                           1     False  \n",
       "2                           2     False  \n",
       "3                           2     False  \n",
       "4                           3     False  "
      ]
     },
     "execution_count": 28,
     "metadata": {},
     "output_type": "execute_result"
    }
   ],
   "source": [
    "df.head()"
   ]
  }
 ],
 "metadata": {
  "kernelspec": {
   "display_name": "Python 2",
   "language": "python",
   "name": "python2"
  },
  "language_info": {
   "codemirror_mode": {
    "name": "ipython",
    "version": 2
   },
   "file_extension": ".py",
   "mimetype": "text/x-python",
   "name": "python",
   "nbconvert_exporter": "python",
   "pygments_lexer": "ipython2",
   "version": "2.7.13"
  }
 },
 "nbformat": 4,
 "nbformat_minor": 2
}
